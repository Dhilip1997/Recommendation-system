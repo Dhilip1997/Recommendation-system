{
 "cells": [
  {
   "cell_type": "markdown",
   "metadata": {},
   "source": [
    "# Final implementaion of Amazon Apparel Recommendation system-Dhilip vasanth"
   ]
  },
  {
   "cell_type": "markdown",
   "metadata": {},
   "source": [
    "# Objective of this Project:\n",
    "   \n",
    "   Recommending similar apparel items/product in amazon ecommerce based on text and image features.Recommending similar apparel items to the users.It estimated that Amazon'35% revenue is generated using product recommendation system."
   ]
  },
  {
   "cell_type": "code",
   "execution_count": 1,
   "metadata": {},
   "outputs": [
    {
     "data": {
      "text/html": [
       "        <script type=\"text/javascript\">\n",
       "        window.PlotlyConfig = {MathJaxConfig: 'local'};\n",
       "        if (window.MathJax) {MathJax.Hub.Config({SVG: {font: \"STIX-Web\"}});}\n",
       "        if (typeof require !== 'undefined') {\n",
       "        require.undef(\"plotly\");\n",
       "        requirejs.config({\n",
       "            paths: {\n",
       "                'plotly': ['https://cdn.plot.ly/plotly-latest.min']\n",
       "            }\n",
       "        });\n",
       "        require(['plotly'], function(Plotly) {\n",
       "            window._Plotly = Plotly;\n",
       "        });\n",
       "        }\n",
       "        </script>\n",
       "        "
      ]
     },
     "metadata": {},
     "output_type": "display_data"
    }
   ],
   "source": [
    "from PIL import Image\n",
    "import requests\n",
    "from io import BytesIO\n",
    "import matplotlib.pyplot as plt\n",
    "import numpy as np\n",
    "import pandas as pd\n",
    "import warnings\n",
    "from bs4 import BeautifulSoup\n",
    "from nltk.corpus import stopwords\n",
    "from nltk.tokenize import word_tokenize\n",
    "import nltk\n",
    "import math\n",
    "import time\n",
    "import re\n",
    "import os\n",
    "import seaborn as sns\n",
    "from collections import Counter\n",
    "from sklearn.feature_extraction.text import CountVectorizer\n",
    "from sklearn.feature_extraction.text import TfidfVectorizer\n",
    "from sklearn.metrics import pairwise_distances\n",
    "from matplotlib import gridspec\n",
    "from scipy.sparse import hstack\n",
    "import plotly\n",
    "import plotly.figure_factory as ff\n",
    "from plotly.graph_objs import Scatter, Layout\n",
    "\n",
    "plotly.offline.init_notebook_mode(connected=True)\n",
    "warnings.filterwarnings(\"ignore\")"
   ]
  },
  {
   "cell_type": "markdown",
   "metadata": {},
   "source": [
    "# Loading 16k_apperal_data_preprocessed"
   ]
  },
  {
   "cell_type": "code",
   "execution_count": 2,
   "metadata": {},
   "outputs": [
    {
     "data": {
      "text/html": [
       "<div>\n",
       "<style scoped>\n",
       "    .dataframe tbody tr th:only-of-type {\n",
       "        vertical-align: middle;\n",
       "    }\n",
       "\n",
       "    .dataframe tbody tr th {\n",
       "        vertical-align: top;\n",
       "    }\n",
       "\n",
       "    .dataframe thead th {\n",
       "        text-align: right;\n",
       "    }\n",
       "</style>\n",
       "<table border=\"1\" class=\"dataframe\">\n",
       "  <thead>\n",
       "    <tr style=\"text-align: right;\">\n",
       "      <th></th>\n",
       "      <th>asin</th>\n",
       "      <th>brand</th>\n",
       "      <th>color</th>\n",
       "      <th>medium_image_url</th>\n",
       "      <th>product_type_name</th>\n",
       "      <th>title</th>\n",
       "      <th>formatted_price</th>\n",
       "    </tr>\n",
       "  </thead>\n",
       "  <tbody>\n",
       "    <tr>\n",
       "      <th>4</th>\n",
       "      <td>B004GSI2OS</td>\n",
       "      <td>FeatherLite</td>\n",
       "      <td>Onyx Black/ Stone</td>\n",
       "      <td>https://images-na.ssl-images-amazon.com/images...</td>\n",
       "      <td>SHIRT</td>\n",
       "      <td>featherlite ladies long sleeve stain resistant...</td>\n",
       "      <td>$26.26</td>\n",
       "    </tr>\n",
       "    <tr>\n",
       "      <th>6</th>\n",
       "      <td>B012YX2ZPI</td>\n",
       "      <td>HX-Kingdom Fashion T-shirts</td>\n",
       "      <td>White</td>\n",
       "      <td>https://images-na.ssl-images-amazon.com/images...</td>\n",
       "      <td>SHIRT</td>\n",
       "      <td>womens unique 100 cotton  special olympics wor...</td>\n",
       "      <td>$9.99</td>\n",
       "    </tr>\n",
       "    <tr>\n",
       "      <th>15</th>\n",
       "      <td>B003BSRPB0</td>\n",
       "      <td>FeatherLite</td>\n",
       "      <td>White</td>\n",
       "      <td>https://images-na.ssl-images-amazon.com/images...</td>\n",
       "      <td>SHIRT</td>\n",
       "      <td>featherlite ladies moisture free mesh sport sh...</td>\n",
       "      <td>$20.54</td>\n",
       "    </tr>\n",
       "    <tr>\n",
       "      <th>27</th>\n",
       "      <td>B014ICEJ1Q</td>\n",
       "      <td>FNC7C</td>\n",
       "      <td>Purple</td>\n",
       "      <td>https://images-na.ssl-images-amazon.com/images...</td>\n",
       "      <td>SHIRT</td>\n",
       "      <td>supernatural chibis sam dean castiel neck tshi...</td>\n",
       "      <td>$7.39</td>\n",
       "    </tr>\n",
       "    <tr>\n",
       "      <th>46</th>\n",
       "      <td>B01NACPBG2</td>\n",
       "      <td>Fifth Degree</td>\n",
       "      <td>Black</td>\n",
       "      <td>https://images-na.ssl-images-amazon.com/images...</td>\n",
       "      <td>SHIRT</td>\n",
       "      <td>fifth degree womens gold foil graphic tees jun...</td>\n",
       "      <td>$6.95</td>\n",
       "    </tr>\n",
       "  </tbody>\n",
       "</table>\n",
       "</div>"
      ],
      "text/plain": [
       "          asin                        brand              color  \\\n",
       "4   B004GSI2OS                  FeatherLite  Onyx Black/ Stone   \n",
       "6   B012YX2ZPI  HX-Kingdom Fashion T-shirts              White   \n",
       "15  B003BSRPB0                  FeatherLite              White   \n",
       "27  B014ICEJ1Q                        FNC7C             Purple   \n",
       "46  B01NACPBG2                 Fifth Degree              Black   \n",
       "\n",
       "                                     medium_image_url product_type_name  \\\n",
       "4   https://images-na.ssl-images-amazon.com/images...             SHIRT   \n",
       "6   https://images-na.ssl-images-amazon.com/images...             SHIRT   \n",
       "15  https://images-na.ssl-images-amazon.com/images...             SHIRT   \n",
       "27  https://images-na.ssl-images-amazon.com/images...             SHIRT   \n",
       "46  https://images-na.ssl-images-amazon.com/images...             SHIRT   \n",
       "\n",
       "                                                title formatted_price  \n",
       "4   featherlite ladies long sleeve stain resistant...          $26.26  \n",
       "6   womens unique 100 cotton  special olympics wor...           $9.99  \n",
       "15  featherlite ladies moisture free mesh sport sh...          $20.54  \n",
       "27  supernatural chibis sam dean castiel neck tshi...           $7.39  \n",
       "46  fifth degree womens gold foil graphic tees jun...           $6.95  "
      ]
     },
     "execution_count": 2,
     "metadata": {},
     "output_type": "execute_result"
    }
   ],
   "source": [
    "data = pd.read_pickle('pickels/16k_apperal_data_preprocessed')\n",
    "data.head()"
   ]
  },
  {
   "cell_type": "code",
   "execution_count": 3,
   "metadata": {},
   "outputs": [],
   "source": [
    "from gensim.models import Word2Vec\n",
    "from gensim.models import KeyedVectors\n",
    "import pickle\n",
    "\n",
    "with open('word2vec_model', 'rb') as handle:\n",
    "    model = pickle.load(handle)"
   ]
  },
  {
   "cell_type": "code",
   "execution_count": 4,
   "metadata": {},
   "outputs": [],
   "source": [
    "idf_title_vectorizer=CountVectorizer()\n",
    "idf_title_features=idf_title_vectorizer.fit_transform(data[\"title\"])"
   ]
  },
  {
   "cell_type": "code",
   "execution_count": 5,
   "metadata": {},
   "outputs": [],
   "source": [
    "def get_word_vec(sentence, doc_id, m_name):\n",
    "    vec = []\n",
    "    for i in sentence.split():\n",
    "        if i in vocab:\n",
    "            if m_name == 'weighted' and i in  idf_title_vectorizer.vocabulary_:\n",
    "                vec.append(idf_title_features[doc_id, idf_title_vectorizer.vocabulary_[i]] * model[i])\n",
    "            elif m_name == 'avg':\n",
    "                vec.append(model[i])\n",
    "        else:\n",
    "            vec.append(np.zeros(shape=(300,)))\n",
    "    return  np.array(vec)\n",
    "\n",
    "def get_distance(vec1, vec2):\n",
    "    final_dist = []\n",
    "    for i in vec1:\n",
    "        dist = []\n",
    "        for j in vec2:\n",
    "            dist.append(np.linalg.norm(i-j))\n",
    "        final_dist.append(np.array(dist))\n",
    "    return np.array(final_dist)\n",
    "\n",
    "\n",
    "def heat_map_w2v(sentence1, sentence2, url, doc_id1, doc_id2, model):\n",
    "    s1_vec = get_word_vec(sentence1, doc_id1, model)\n",
    "    s2_vec = get_word_vec(sentence2, doc_id2, model)\n",
    "    s1_s2_dist = get_distance(s1_vec, s2_vec)\n",
    "    gs = gridspec.GridSpec(2, 2, width_ratios=[4,1],height_ratios=[2,1]) \n",
    "    fig = plt.figure(figsize=(15,15))\n",
    "    \n",
    "    ax = plt.subplot(gs[0])\n",
    "    ax = sns.heatmap(np.round(s1_s2_dist,4), annot=True)\n",
    "    ax.set_xticklabels(sentence2.split())\n",
    "    ax.set_yticklabels(sentence1.split())\n",
    "    ax.set_title(sentence2)\n",
    "    \n",
    "    ax = plt.subplot(gs[1])\n",
    "    ax.grid(False)\n",
    "    ax.set_xticks([])\n",
    "    ax.set_yticks([])\n",
    "    display_img(url, ax, fig)\n",
    "    \n",
    "    plt.show()"
   ]
  },
  {
   "cell_type": "code",
   "execution_count": 6,
   "metadata": {},
   "outputs": [],
   "source": [
    "vocab = model.keys()\n",
    "def build_avg_vec(sentence, num_features, doc_id, m_name):\n",
    "    featureVec = np.zeros((num_features,), dtype=\"float32\")\n",
    "    nwords = 0\n",
    "    \n",
    "    for word in sentence.split():\n",
    "        nwords += 1\n",
    "        if word in vocab:\n",
    "            if m_name == 'weighted' and word in  idf_title_vectorizer.vocabulary_:\n",
    "                featureVec = np.add(featureVec, idf_title_features[doc_id, idf_title_vectorizer.vocabulary_[word]] * model[word])\n",
    "            elif m_name == 'avg':\n",
    "                featureVec = np.add(featureVec, model[word])\n",
    "    if(nwords>0):\n",
    "        featureVec = np.divide(featureVec, nwords)\n",
    "    return featureVec"
   ]
  },
  {
   "cell_type": "code",
   "execution_count": 7,
   "metadata": {},
   "outputs": [],
   "source": [
    "doc_id = 0\n",
    "w2v_title_weight = []\n",
    "for i in data['title']:\n",
    "    w2v_title_weight.append(build_avg_vec(i, 300, doc_id,'weighted'))\n",
    "    doc_id += 1\n",
    "w2v_title_weight = np.array(w2v_title_weight)"
   ]
  },
  {
   "cell_type": "code",
   "execution_count": 8,
   "metadata": {},
   "outputs": [
    {
     "data": {
      "text/plain": [
       "(16042, 300)"
      ]
     },
     "execution_count": 8,
     "metadata": {},
     "output_type": "execute_result"
    }
   ],
   "source": [
    "w2v_title_weight.shape"
   ]
  },
  {
   "cell_type": "code",
   "execution_count": 9,
   "metadata": {},
   "outputs": [],
   "source": [
    "data['brand'].fillna(value=\"Not given\", inplace=True )\n",
    "brands = [x.replace(\" \", \"-\") for x in data['brand'].values]\n",
    "types = [x.replace(\" \", \"-\") for x in data['product_type_name'].values]\n",
    "colors = [x.replace(\" \", \"-\") for x in data['color'].values]\n",
    "\n",
    "brand_vectorizer = CountVectorizer()\n",
    "brand_features = brand_vectorizer.fit_transform(brands)\n",
    "\n",
    "color_vectorizer = CountVectorizer()\n",
    "color_features = color_vectorizer.fit_transform(colors)"
   ]
  },
  {
   "cell_type": "code",
   "execution_count": 10,
   "metadata": {},
   "outputs": [],
   "source": [
    "def heat_map_w2v_brand(sentance1, sentance2, url, doc_id1, doc_id2, df_id1, df_id2, model):\n",
    "    s1_vec = get_word_vec(sentance1, doc_id1, model)\n",
    "    s2_vec = get_word_vec(sentance2, doc_id2, model)\n",
    "    s1_s2_dist = get_distance(s1_vec, s2_vec)\n",
    "   \n",
    "    data_matrix = [['Asin','Brand', 'Color', 'Product type'],\n",
    "               [data['asin'].loc[df_id1],brands[doc_id1], colors[doc_id1], types[doc_id1]], \n",
    "               [data['asin'].loc[df_id2],brands[doc_id2], colors[doc_id2], types[doc_id2]]] \n",
    "    \n",
    "    colorscale = [[0, '#1d004d'],[.5, '#f2e5ff'],[1, '#f2e5d1']] \n",
    "    table = ff.create_table(data_matrix, index=True, colorscale=colorscale)\n",
    "    plotly.offline.iplot(table, filename='simple_table')\n",
    "    gs = gridspec.GridSpec(25, 15)\n",
    "    fig = plt.figure(figsize=(25,5))\n",
    "    ax1 = plt.subplot(gs[:, :-5])\n",
    "    ax1 = sns.heatmap(np.round(s1_s2_dist,6), annot=True)\n",
    "    ax1.set_xticklabels(sentance2.split())\n",
    "    ax1.set_yticklabels(sentance1.split())\n",
    "    ax1.set_title(sentance2)\n",
    "    ax2 = plt.subplot(gs[:, 10:16])\n",
    "    ax2.grid(False)\n",
    "    ax2.set_xticks([])\n",
    "    ax2.set_yticks([])\n",
    "    display_img(url, ax2, fig)\n",
    "    \n",
    "    plt.show()"
   ]
  },
  {
   "cell_type": "code",
   "execution_count": 11,
   "metadata": {},
   "outputs": [
    {
     "name": "stderr",
     "output_type": "stream",
     "text": [
      "Using TensorFlow backend.\n"
     ]
    }
   ],
   "source": [
    "import numpy as np\n",
    "from keras.preprocessing.image import ImageDataGenerator\n",
    "from keras.models import Sequential\n",
    "from keras.layers import Dropout, Flatten, Dense\n",
    "from keras import applications\n",
    "from sklearn.metrics import pairwise_distances\n",
    "import matplotlib.pyplot as plt\n",
    "import requests\n",
    "from PIL import Image\n",
    "import pandas as pd\n",
    "import pickle"
   ]
  },
  {
   "cell_type": "code",
   "execution_count": 12,
   "metadata": {},
   "outputs": [
    {
     "name": "stdout",
     "output_type": "stream",
     "text": [
      "(16042, 25088)\n"
     ]
    }
   ],
   "source": [
    "bottleneck_features_train = np.load('16k_data_cnn_features.npy')\n",
    "print(bottleneck_features_train.shape)"
   ]
  },
  {
   "cell_type": "code",
   "execution_count": 15,
   "metadata": {
    "scrolled": false
   },
   "outputs": [
    {
     "name": "stdout",
     "output_type": "stream",
     "text": [
      "enter the weight of the text:100\n",
      "enter the weight of brand:20\n",
      "enter the weight of the color:30\n",
      "enter the weight of the image:1\n",
      "query image\n"
     ]
    },
    {
     "data": {
      "image/jpeg": "[encoded data removed]",
      "text/plain": [
       "<IPython.core.display.Image object>"
      ]
     },
     "metadata": {},
     "output_type": "display_data"
    },
    {
     "name": "stdout",
     "output_type": "stream",
     "text": [
      "Product Title:  ferrari ladies black vneck tee shirt xlarge \n",
      "Brand : Ferrari\n",
      "color : Black\n",
      "Euclidean Distance from input image: 4.554333267247748e-08\n",
      "Amazon Url: www.amazon.com/dp/B01EZ6XKR4\n",
      "recommendation on the query image\n"
     ]
    },
    {
     "data": {
      "image/jpeg": "[encoded data removed]",
      "text/plain": [
       "<IPython.core.display.Image object>"
      ]
     },
     "metadata": {},
     "output_type": "display_data"
    },
    {
     "name": "stdout",
     "output_type": "stream",
     "text": [
      "Product Title:  womens abstract art wear silk tunic l  xl oversized fits plus size \n",
      "Brand : Cocoon House\n",
      "color : Multi\n",
      "Euclidean Distance from input image: 1.1799231018380165\n",
      "Amazon Url: www.amazon.com/dp/B00U9Q4SXK\n",
      "recommendation on the query image\n"
     ]
    },
    {
     "data": {
      "image/jpeg": "[encoded data removed]",
      "text/plain": [
       "<IPython.core.display.Image object>"
      ]
     },
     "metadata": {},
     "output_type": "display_data"
    },
    {
     "name": "stdout",
     "output_type": "stream",
     "text": [
      "Product Title:  cable  gauge womens soutache trim surplice pullover top red \n",
      "Brand : Cable & Gauge\n",
      "color : Scarlet Rag\n",
      "Euclidean Distance from input image: 1.3510155466341616\n",
      "Amazon Url: www.amazon.com/dp/B01M1HRZHU\n",
      "recommendation on the query image\n"
     ]
    },
    {
     "data": {
      "image/jpeg": "[encoded data removed]",
      "text/plain": [
       "<IPython.core.display.Image object>"
      ]
     },
     "metadata": {},
     "output_type": "display_data"
    },
    {
     "name": "stdout",
     "output_type": "stream",
     "text": [
      "Product Title:  blake shelton new woman season red \n",
      "Brand : CS\n",
      "color : Red\n",
      "Euclidean Distance from input image: 1.3645321306854827\n",
      "Amazon Url: www.amazon.com/dp/B01E6IGDAC\n",
      "recommendation on the query image\n"
     ]
    },
    {
     "data": {
      "image/jpeg": "[encoded data removed]",
      "text/plain": [
       "<IPython.core.display.Image object>"
      ]
     },
     "metadata": {},
     "output_type": "display_data"
    },
    {
     "name": "stdout",
     "output_type": "stream",
     "text": [
      "Product Title:  dsquared2 womens plaid front short sleeve polo shirt us xs 38 \n",
      "Brand : DSQUARED2\n",
      "color : Multi-color\n",
      "Euclidean Distance from input image: 1.3731360413503764\n",
      "Amazon Url: www.amazon.com/dp/B074637K41\n",
      "recommendation on the query image\n"
     ]
    },
    {
     "data": {
      "image/jpeg": "[encoded data removed]",
      "text/plain": [
       "<IPython.core.display.Image object>"
      ]
     },
     "metadata": {},
     "output_type": "display_data"
    },
    {
     "name": "stdout",
     "output_type": "stream",
     "text": [
      "Product Title:  flashing lights kanye west shirts women white \n",
      "Brand : Moonflow\n",
      "color : White\n",
      "Euclidean Distance from input image: 1.3865711641627432\n",
      "Amazon Url: www.amazon.com/dp/B01H2WLCQO\n",
      "recommendation on the query image\n"
     ]
    },
    {
     "data": {
      "image/jpeg": "[encoded data removed]",
      "text/plain": [
       "<IPython.core.display.Image object>"
      ]
     },
     "metadata": {},
     "output_type": "display_data"
    },
    {
     "name": "stdout",
     "output_type": "stream",
     "text": [
      "Product Title:  michael kors shore womens embellishedneck knit top blue xs \n",
      "Brand : Michael Kors\n",
      "color : Blue\n",
      "Euclidean Distance from input image: 1.3909247831844478\n",
      "Amazon Url: www.amazon.com/dp/B01MRMKVPA\n",
      "recommendation on the query image\n"
     ]
    },
    {
     "data": {
      "image/jpeg": "[encoded data removed]",
      "text/plain": [
       "<IPython.core.display.Image object>"
      ]
     },
     "metadata": {},
     "output_type": "display_data"
    },
    {
     "name": "stdout",
     "output_type": "stream",
     "text": [
      "Product Title:  stylesilove sleeveless loose womens top blouse red \n",
      "Brand : stylesilove\n",
      "color : Red\n",
      "Euclidean Distance from input image: 1.4009320477827638\n",
      "Amazon Url: www.amazon.com/dp/B01JMU2RW2\n",
      "recommendation on the query image\n"
     ]
    },
    {
     "data": {
      "image/jpeg": "[encoded data removed]",
      "text/plain": [
       "<IPython.core.display.Image object>"
      ]
     },
     "metadata": {},
     "output_type": "display_data"
    },
    {
     "name": "stdout",
     "output_type": "stream",
     "text": [
      "Product Title:  niceda womens owsla design tank top shirt \n",
      "Brand : Niceda\n",
      "color : Red\n",
      "Euclidean Distance from input image: 1.4045063938577587\n",
      "Amazon Url: www.amazon.com/dp/B01KV6B7X6\n",
      "recommendation on the query image\n"
     ]
    },
    {
     "data": {
      "image/jpeg": "[encoded data removed]",
      "text/plain": [
       "<IPython.core.display.Image object>"
      ]
     },
     "metadata": {},
     "output_type": "display_data"
    },
    {
     "name": "stdout",
     "output_type": "stream",
     "text": [
      "Product Title:  tahari pinky blouse snake print top shirt small navy blue \n",
      "Brand : T Tahari\n",
      "color : Navy Blue\n",
      "Euclidean Distance from input image: 1.4071881765612846\n",
      "Amazon Url: www.amazon.com/dp/B00MLC0ZM8\n",
      "recommendation on the query image\n"
     ]
    },
    {
     "data": {
      "image/jpeg": "[encoded data removed]",
      "text/plain": [
       "<IPython.core.display.Image object>"
      ]
     },
     "metadata": {},
     "output_type": "display_data"
    },
    {
     "name": "stdout",
     "output_type": "stream",
     "text": [
      "Product Title:  xiuluan womens 411 motor speedway race logo tshirt size xxl colorname short sleeve \n",
      "Brand : XIULUAN\n",
      "color : Black\n",
      "Euclidean Distance from input image: 1.4074427507622496\n",
      "Amazon Url: www.amazon.com/dp/B01J3N55VI\n",
      "recommendation on the query image\n"
     ]
    },
    {
     "data": {
      "image/jpeg": "[encoded data removed]",
      "text/plain": [
       "<IPython.core.display.Image object>"
      ]
     },
     "metadata": {},
     "output_type": "display_data"
    },
    {
     "name": "stdout",
     "output_type": "stream",
     "text": [
      "Product Title:  ellen tracy womens size large elbow sleeve top coral pink \n",
      "Brand : Emily Rose\n",
      "color : Coral Pink\n",
      "Euclidean Distance from input image: 1.4110879087341686\n",
      "Amazon Url: www.amazon.com/dp/B06Y1V2X9S\n",
      "recommendation on the query image\n"
     ]
    },
    {
     "data": {
      "image/jpeg": "[encoded data removed]",
      "text/plain": [
       "<IPython.core.display.Image object>"
      ]
     },
     "metadata": {},
     "output_type": "display_data"
    },
    {
     "name": "stdout",
     "output_type": "stream",
     "text": [
      "Product Title:  fromnothing 2 something triblend womens short sleeve soft tshirt 50 polyester 25 cotton25 rayon \n",
      "Brand : Bazz Fits\n",
      "color : Evergreen\n",
      "Euclidean Distance from input image: 1.412161986011952\n",
      "Amazon Url: www.amazon.com/dp/B06X9P2T71\n",
      "recommendation on the query image\n"
     ]
    },
    {
     "data": {
      "image/jpeg": "[encoded data removed]",
      "text/plain": [
       "<IPython.core.display.Image object>"
      ]
     },
     "metadata": {},
     "output_type": "display_data"
    },
    {
     "name": "stdout",
     "output_type": "stream",
     "text": [
      "Product Title:  marrikas viscose bamboo sleeveless tank top lime medium 1012 \n",
      "Brand : Marrikas\n",
      "color : Green\n",
      "Euclidean Distance from input image: 1.4127374950931064\n",
      "Amazon Url: www.amazon.com/dp/B003T8OC40\n",
      "recommendation on the query image\n"
     ]
    },
    {
     "data": {
      "image/jpeg": "[encoded data removed]",
      "text/plain": [
       "<IPython.core.display.Image object>"
      ]
     },
     "metadata": {},
     "output_type": "display_data"
    },
    {
     "name": "stdout",
     "output_type": "stream",
     "text": [
      "Product Title:  cling womens shinedown world tour 2016 vneck tshirt black \n",
      "Brand : CLIng\n",
      "color : Black\n",
      "Euclidean Distance from input image: 1.4149787045656943\n",
      "Amazon Url: www.amazon.com/dp/B01FFHW67C\n",
      "recommendation on the query image\n"
     ]
    },
    {
     "data": {
      "image/jpeg": "[encoded data removed]",
      "text/plain": [
       "<IPython.core.display.Image object>"
      ]
     },
     "metadata": {},
     "output_type": "display_data"
    },
    {
     "name": "stdout",
     "output_type": "stream",
     "text": [
      "Product Title:  womans jabbawockeez red logo shirts black xxl \n",
      "Brand : vcord\n",
      "color : Black\n",
      "Euclidean Distance from input image: 1.416227745936026\n",
      "Amazon Url: www.amazon.com/dp/B01L387BGS\n",
      "recommendation on the query image\n"
     ]
    },
    {
     "data": {
      "image/jpeg": "[encoded data removed]",
      "text/plain": [
       "<IPython.core.display.Image object>"
      ]
     },
     "metadata": {},
     "output_type": "display_data"
    },
    {
     "name": "stdout",
     "output_type": "stream",
     "text": [
      "Product Title:  soprano black junior fauxleather ss vneck blouse red xs \n",
      "Brand : Soprano\n",
      "color : Black\n",
      "Euclidean Distance from input image: 1.4166124240503548\n",
      "Amazon Url: www.amazon.com/dp/B071Z8NX2P\n",
      "recommendation on the query image\n"
     ]
    },
    {
     "data": {
      "image/jpeg": "[encoded data removed]",
      "text/plain": [
       "<IPython.core.display.Image object>"
      ]
     },
     "metadata": {},
     "output_type": "display_data"
    },
    {
     "name": "stdout",
     "output_type": "stream",
     "text": [
      "Product Title:  mothers day mommy needs cocktail graphic tshirt  small \n",
      "Brand : Mother's Day\n",
      "color : White\n",
      "Euclidean Distance from input image: 1.4222597287119172\n",
      "Amazon Url: www.amazon.com/dp/B01DDZ4RM0\n",
      "recommendation on the query image\n"
     ]
    },
    {
     "data": {
      "image/jpeg": "[encoded data removed]",
      "text/plain": [
       "<IPython.core.display.Image object>"
      ]
     },
     "metadata": {},
     "output_type": "display_data"
    },
    {
     "name": "stdout",
     "output_type": "stream",
     "text": [
      "Product Title:  hnan womens mass effect spectre short sleeve tees yellow l \n",
      "Brand : H'nan\n",
      "color : Yellow\n",
      "Euclidean Distance from input image: 1.4241620383566722\n",
      "Amazon Url: www.amazon.com/dp/B012CHIJFQ\n",
      "recommendation on the query image\n"
     ]
    },
    {
     "data": {
      "image/jpeg": "[encoded data removed]",
      "text/plain": [
       "<IPython.core.display.Image object>"
      ]
     },
     "metadata": {},
     "output_type": "display_data"
    },
    {
     "name": "stdout",
     "output_type": "stream",
     "text": [
      "Product Title:  hnan womens doctor logo words oneck tshirts black xl \n",
      "Brand : H'nan\n",
      "color : Black\n",
      "Euclidean Distance from input image: 1.4242368029371344\n",
      "Amazon Url: www.amazon.com/dp/B0142LRYRO\n"
     ]
    }
   ],
   "source": [
    "asins = np.load('16k_data_cnn_feature_asins.npy')\n",
    "asins = list(asins)\n",
    "\n",
    "data = pd.read_pickle('pickels/16k_apperal_data_preprocessed')\n",
    "df_asins = list(data['asin'])\n",
    "\n",
    "\n",
    "from IPython.display import display, Image, SVG, Math, YouTubeVideo\n",
    "''\n",
    "\n",
    "def get_similar_products_cnn(doc_id,wt,wb,wc,wi,num_results):\n",
    "    doc_id = asins.index(df_asins[doc_id])\n",
    "    idf_w2v_dist=pairwise_distances(w2v_title_weight,w2v_title_weight[doc_id].reshape(1,-1))\n",
    "    brand_dist=pairwise_distances(brand_features,brand_features[doc_id])\n",
    "    color_dist=pairwise_distances(color_features,color_features[doc_id])\n",
    "    image_dist = pairwise_distances(bottleneck_features_train, bottleneck_features_train[doc_id].reshape(1,-1))\n",
    "    pairwise_dist=(wt * idf_w2v_dist +  wb * brand_dist + wc*color_dist + wi*image_dist)/float(wt+wb+wc+wi)\n",
    "\n",
    "    indices = np.argsort(pairwise_dist.flatten())[0:num_results]\n",
    "    pdists  = np.sort(pairwise_dist.flatten())[0:num_results]\n",
    "\n",
    "    for i in range(len(indices)):\n",
    "        rows = data[['medium_image_url','title','brand','color']].loc[data['asin']==asins[indices[i]]]\n",
    "        if i==0:\n",
    "            print(\"query image\")\n",
    "        else:\n",
    "            print(\"recommendation on the query image\")\n",
    "        for indx, row in rows.iterrows():\n",
    "            display(Image(url=row['medium_image_url'], embed=True))\n",
    "            print('Product Title: ', row['title'],)\n",
    "            print('Brand :',row['brand'])\n",
    "            print('color :',row[\"color\"])\n",
    "            print('Euclidean Distance from input image:', pdists[i])\n",
    "            print('Amazon Url: www.amazon.com/dp/'+ asins[indices[i]])\n",
    "\n",
    "\n",
    "text_weight=int(input(\"enter the weight of the text:\"))\n",
    "brand_weight=int(input(\"enter the weight of brand:\"))\n",
    "color_weight=int(input(\"enter the weight of the color:\"))\n",
    "image_weight=int(input(\"enter the weight of the image:\"))\n",
    "\n",
    "get_similar_products_cnn(19,text_weight,brand_weight,color_weight,image_weight,20)\n",
    "\n",
    "\n"
   ]
  },
  {
   "cell_type": "code",
   "execution_count": null,
   "metadata": {},
   "outputs": [],
   "source": []
  }
 ],
 "metadata": {
  "kernelspec": {
   "display_name": "Python 3",
   "language": "python",
   "name": "python3"
  },
  "language_info": {
   "codemirror_mode": {
    "name": "ipython",
    "version": 3
   },
   "file_extension": ".py",
   "mimetype": "text/x-python",
   "name": "python",
   "nbconvert_exporter": "python",
   "pygments_lexer": "ipython3",
   "version": "3.6.5"
  }
 },
 "nbformat": 4,
 "nbformat_minor": 2
}
